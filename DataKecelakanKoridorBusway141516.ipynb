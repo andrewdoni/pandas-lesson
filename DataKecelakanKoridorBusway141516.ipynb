{
 "cells": [
  {
   "cell_type": "markdown",
   "metadata": {},
   "source": [
    "# Data Kecelakaan di Dalam Koridor Busway Selama Periode 2014-2015\n",
    "#### Dalam analyst menggunakan sebanyak 3 file untuk melihat perbandingan kasus kecelakaan yang terjadi "
   ]
  },
  {
   "cell_type": "code",
   "execution_count": null,
   "metadata": {},
   "outputs": [],
   "source": [
    "import pandas as pd\n",
    "import matplotlib.pyplot as plt\n",
    "import numpy as np\n",
    "import seaborn as sns"
   ]
  },
  {
   "cell_type": "code",
   "execution_count": 2,
   "metadata": {},
   "outputs": [],
   "source": [
    "data1 = pd.read_csv('data-kecelakaan-di-dalam-koridor-busway-2014.csv',index_col='koridor')\n",
    "data2 = pd.read_csv('data-kecelakaan-di-dalam-koridor-busway-2015.csv',index_col='koridor')\n",
    "data3 = pd.read_csv('data-kecelakaan-di-dalam-koridor-busway-2016.csv',index_col='koridor')"
   ]
  },
  {
   "cell_type": "markdown",
   "metadata": {},
   "source": [
    "#### Disini ketiga dataframe disatukan kedalam satu dataframe, dengan urutan dataframe tahun \"2014\",\"2015\",\"2016\""
   ]
  },
  {
   "cell_type": "code",
   "execution_count": 3,
   "metadata": {},
   "outputs": [
    {
     "data": {
      "text/html": [
       "<div>\n",
       "<style scoped>\n",
       "    .dataframe tbody tr th:only-of-type {\n",
       "        vertical-align: middle;\n",
       "    }\n",
       "\n",
       "    .dataframe tbody tr th {\n",
       "        vertical-align: top;\n",
       "    }\n",
       "\n",
       "    .dataframe thead th {\n",
       "        text-align: right;\n",
       "    }\n",
       "</style>\n",
       "<table border=\"1\" class=\"dataframe\">\n",
       "  <thead>\n",
       "    <tr style=\"text-align: right;\">\n",
       "      <th></th>\n",
       "      <th>rute_koridor</th>\n",
       "      <th>jumlah_kecelakaan</th>\n",
       "    </tr>\n",
       "    <tr>\n",
       "      <th>koridor</th>\n",
       "      <th></th>\n",
       "      <th></th>\n",
       "    </tr>\n",
       "  </thead>\n",
       "  <tbody>\n",
       "    <tr>\n",
       "      <th>Koridor 1</th>\n",
       "      <td>blok m - kota</td>\n",
       "      <td>36</td>\n",
       "    </tr>\n",
       "    <tr>\n",
       "      <th>Koridor 2</th>\n",
       "      <td>harmoni - pulo gadung</td>\n",
       "      <td>79</td>\n",
       "    </tr>\n",
       "    <tr>\n",
       "      <th>Koridor 3</th>\n",
       "      <td>kalideres - harmoni</td>\n",
       "      <td>95</td>\n",
       "    </tr>\n",
       "    <tr>\n",
       "      <th>Koridor 4</th>\n",
       "      <td>dukuh atas - pulogadung</td>\n",
       "      <td>55</td>\n",
       "    </tr>\n",
       "    <tr>\n",
       "      <th>Koridor 5</th>\n",
       "      <td>kampung melayu - ancol</td>\n",
       "      <td>51</td>\n",
       "    </tr>\n",
       "    <tr>\n",
       "      <th>Koridor 6</th>\n",
       "      <td>ragunan - latuharhari</td>\n",
       "      <td>96</td>\n",
       "    </tr>\n",
       "    <tr>\n",
       "      <th>Koridor 7</th>\n",
       "      <td>kampung melayu - kampung rambutan</td>\n",
       "      <td>75</td>\n",
       "    </tr>\n",
       "    <tr>\n",
       "      <th>Koridor 8</th>\n",
       "      <td>lebak bulus - harmoni</td>\n",
       "      <td>70</td>\n",
       "    </tr>\n",
       "    <tr>\n",
       "      <th>Koridor 9</th>\n",
       "      <td>pinang ranti - pluit</td>\n",
       "      <td>116</td>\n",
       "    </tr>\n",
       "    <tr>\n",
       "      <th>Koridor 10</th>\n",
       "      <td>cililitan - tanjung priok</td>\n",
       "      <td>32</td>\n",
       "    </tr>\n",
       "    <tr>\n",
       "      <th>Koridor 11</th>\n",
       "      <td>pulo gebang - kampung melayu</td>\n",
       "      <td>14</td>\n",
       "    </tr>\n",
       "    <tr>\n",
       "      <th>Koridor 12</th>\n",
       "      <td>pluit - tanjung priok</td>\n",
       "      <td>51</td>\n",
       "    </tr>\n",
       "    <tr>\n",
       "      <th>Koridor 1</th>\n",
       "      <td>blok m - kota</td>\n",
       "      <td>23</td>\n",
       "    </tr>\n",
       "    <tr>\n",
       "      <th>Koridor 2</th>\n",
       "      <td>harmoni - pulo gadung</td>\n",
       "      <td>28</td>\n",
       "    </tr>\n",
       "    <tr>\n",
       "      <th>Koridor 3</th>\n",
       "      <td>kalideres - harmoni</td>\n",
       "      <td>25</td>\n",
       "    </tr>\n",
       "    <tr>\n",
       "      <th>Koridor 4</th>\n",
       "      <td>dukuh atas - pulogadung</td>\n",
       "      <td>22</td>\n",
       "    </tr>\n",
       "    <tr>\n",
       "      <th>Koridor 5</th>\n",
       "      <td>kampung melayu - ancol</td>\n",
       "      <td>26</td>\n",
       "    </tr>\n",
       "    <tr>\n",
       "      <th>Koridor 6</th>\n",
       "      <td>ragunan - latuharhari</td>\n",
       "      <td>62</td>\n",
       "    </tr>\n",
       "    <tr>\n",
       "      <th>Koridor 7</th>\n",
       "      <td>kampung melayu - kampung rambutan</td>\n",
       "      <td>39</td>\n",
       "    </tr>\n",
       "    <tr>\n",
       "      <th>Koridor 8</th>\n",
       "      <td>lebak bulus - harmoni</td>\n",
       "      <td>75</td>\n",
       "    </tr>\n",
       "    <tr>\n",
       "      <th>Koridor 9</th>\n",
       "      <td>pinang ranti - pluit</td>\n",
       "      <td>57</td>\n",
       "    </tr>\n",
       "    <tr>\n",
       "      <th>Koridor 10</th>\n",
       "      <td>cililitan - tanjung priok</td>\n",
       "      <td>29</td>\n",
       "    </tr>\n",
       "    <tr>\n",
       "      <th>Koridor 11</th>\n",
       "      <td>pulo gebang - kampung melayu</td>\n",
       "      <td>4</td>\n",
       "    </tr>\n",
       "    <tr>\n",
       "      <th>Koridor 12</th>\n",
       "      <td>pluit - tanjung priok</td>\n",
       "      <td>28</td>\n",
       "    </tr>\n",
       "    <tr>\n",
       "      <th>Koridor 1</th>\n",
       "      <td>blok m - kota</td>\n",
       "      <td>53</td>\n",
       "    </tr>\n",
       "    <tr>\n",
       "      <th>Koridor 2</th>\n",
       "      <td>harmoni - pulo gadung</td>\n",
       "      <td>67</td>\n",
       "    </tr>\n",
       "    <tr>\n",
       "      <th>Koridor 3</th>\n",
       "      <td>kalideres - harmoni</td>\n",
       "      <td>65</td>\n",
       "    </tr>\n",
       "    <tr>\n",
       "      <th>Koridor 4</th>\n",
       "      <td>dukuh atas - pulogadung</td>\n",
       "      <td>34</td>\n",
       "    </tr>\n",
       "    <tr>\n",
       "      <th>Koridor 5</th>\n",
       "      <td>kampung melayu - ancol</td>\n",
       "      <td>30</td>\n",
       "    </tr>\n",
       "    <tr>\n",
       "      <th>Koridor 6</th>\n",
       "      <td>ragunan - latuharhari</td>\n",
       "      <td>120</td>\n",
       "    </tr>\n",
       "    <tr>\n",
       "      <th>Koridor 7</th>\n",
       "      <td>kampung melayu - kampung rambutan</td>\n",
       "      <td>60</td>\n",
       "    </tr>\n",
       "    <tr>\n",
       "      <th>Koridor 8</th>\n",
       "      <td>lebak bulus - harmoni</td>\n",
       "      <td>105</td>\n",
       "    </tr>\n",
       "    <tr>\n",
       "      <th>Koridor 9</th>\n",
       "      <td>pinang ranti - pluit</td>\n",
       "      <td>93</td>\n",
       "    </tr>\n",
       "    <tr>\n",
       "      <th>Koridor 10</th>\n",
       "      <td>cililitan - tanjung priok</td>\n",
       "      <td>58</td>\n",
       "    </tr>\n",
       "    <tr>\n",
       "      <th>Koridor 11</th>\n",
       "      <td>pulo gebang - kampung melayu</td>\n",
       "      <td>28</td>\n",
       "    </tr>\n",
       "    <tr>\n",
       "      <th>Koridor 12</th>\n",
       "      <td>pluit - tanjung priok</td>\n",
       "      <td>70</td>\n",
       "    </tr>\n",
       "  </tbody>\n",
       "</table>\n",
       "</div>"
      ],
      "text/plain": [
       "                                  rute_koridor  jumlah_kecelakaan\n",
       "koridor                                                          \n",
       "Koridor 1                        blok m - kota                 36\n",
       "Koridor 2                harmoni - pulo gadung                 79\n",
       "Koridor 3                  kalideres - harmoni                 95\n",
       "Koridor 4             dukuh atas - pulogadung                  55\n",
       "Koridor 5              kampung melayu - ancol                  51\n",
       "Koridor 6                ragunan - latuharhari                 96\n",
       "Koridor 7   kampung melayu - kampung rambutan                  75\n",
       "Koridor 8                lebak bulus - harmoni                 70\n",
       "Koridor 9                pinang ranti - pluit                 116\n",
       "Koridor 10          cililitan - tanjung priok                  32\n",
       "Koridor 11       pulo gebang - kampung melayu                  14\n",
       "Koridor 12               pluit - tanjung priok                 51\n",
       "Koridor 1                        blok m - kota                 23\n",
       "Koridor 2                harmoni - pulo gadung                 28\n",
       "Koridor 3                  kalideres - harmoni                 25\n",
       "Koridor 4             dukuh atas - pulogadung                  22\n",
       "Koridor 5              kampung melayu - ancol                  26\n",
       "Koridor 6                ragunan - latuharhari                 62\n",
       "Koridor 7   kampung melayu - kampung rambutan                  39\n",
       "Koridor 8                lebak bulus - harmoni                 75\n",
       "Koridor 9                pinang ranti - pluit                  57\n",
       "Koridor 10          cililitan - tanjung priok                  29\n",
       "Koridor 11       pulo gebang - kampung melayu                   4\n",
       "Koridor 12               pluit - tanjung priok                 28\n",
       "Koridor 1                        blok m - kota                 53\n",
       "Koridor 2                harmoni - pulo gadung                 67\n",
       "Koridor 3                  kalideres - harmoni                 65\n",
       "Koridor 4             dukuh atas - pulogadung                  34\n",
       "Koridor 5              kampung melayu - ancol                  30\n",
       "Koridor 6                ragunan - latuharhari                120\n",
       "Koridor 7   kampung melayu - kampung rambutan                  60\n",
       "Koridor 8                lebak bulus - harmoni                105\n",
       "Koridor 9                pinang ranti - pluit                  93\n",
       "Koridor 10          cililitan - tanjung priok                  58\n",
       "Koridor 11       pulo gebang - kampung melayu                  28\n",
       "Koridor 12               pluit - tanjung priok                 70"
      ]
     },
     "execution_count": 3,
     "metadata": {},
     "output_type": "execute_result"
    }
   ],
   "source": [
    "frames = [data1,data2,data3]\n",
    "hasil = pd.concat(frames).drop_duplicates()\n",
    "hasil"
   ]
  },
  {
   "cell_type": "code",
   "execution_count": 4,
   "metadata": {},
   "outputs": [
    {
     "data": {
      "text/html": [
       "<div>\n",
       "<style scoped>\n",
       "    .dataframe tbody tr th:only-of-type {\n",
       "        vertical-align: middle;\n",
       "    }\n",
       "\n",
       "    .dataframe tbody tr th {\n",
       "        vertical-align: top;\n",
       "    }\n",
       "\n",
       "    .dataframe thead th {\n",
       "        text-align: right;\n",
       "    }\n",
       "</style>\n",
       "<table border=\"1\" class=\"dataframe\">\n",
       "  <thead>\n",
       "    <tr style=\"text-align: right;\">\n",
       "      <th></th>\n",
       "      <th>jumlah_kecelakaan</th>\n",
       "    </tr>\n",
       "  </thead>\n",
       "  <tbody>\n",
       "    <tr>\n",
       "      <th>count</th>\n",
       "      <td>36.000000</td>\n",
       "    </tr>\n",
       "    <tr>\n",
       "      <th>mean</th>\n",
       "      <td>54.750000</td>\n",
       "    </tr>\n",
       "    <tr>\n",
       "      <th>std</th>\n",
       "      <td>29.555154</td>\n",
       "    </tr>\n",
       "    <tr>\n",
       "      <th>min</th>\n",
       "      <td>4.000000</td>\n",
       "    </tr>\n",
       "    <tr>\n",
       "      <th>25%</th>\n",
       "      <td>28.750000</td>\n",
       "    </tr>\n",
       "    <tr>\n",
       "      <th>50%</th>\n",
       "      <td>54.000000</td>\n",
       "    </tr>\n",
       "    <tr>\n",
       "      <th>75%</th>\n",
       "      <td>71.250000</td>\n",
       "    </tr>\n",
       "    <tr>\n",
       "      <th>max</th>\n",
       "      <td>120.000000</td>\n",
       "    </tr>\n",
       "  </tbody>\n",
       "</table>\n",
       "</div>"
      ],
      "text/plain": [
       "       jumlah_kecelakaan\n",
       "count          36.000000\n",
       "mean           54.750000\n",
       "std            29.555154\n",
       "min             4.000000\n",
       "25%            28.750000\n",
       "50%            54.000000\n",
       "75%            71.250000\n",
       "max           120.000000"
      ]
     },
     "execution_count": 4,
     "metadata": {},
     "output_type": "execute_result"
    }
   ],
   "source": [
    "hasil.describe()"
   ]
  },
  {
   "cell_type": "markdown",
   "metadata": {},
   "source": [
    "#### Untuk mengetahui total jumlah kecelakaan selama periode 2014 - 2016 maka data jumla_kecelakaan dijumlahkan"
   ]
  },
  {
   "cell_type": "code",
   "execution_count": 5,
   "metadata": {},
   "outputs": [
    {
     "data": {
      "text/html": [
       "<div>\n",
       "<style scoped>\n",
       "    .dataframe tbody tr th:only-of-type {\n",
       "        vertical-align: middle;\n",
       "    }\n",
       "\n",
       "    .dataframe tbody tr th {\n",
       "        vertical-align: top;\n",
       "    }\n",
       "\n",
       "    .dataframe thead th {\n",
       "        text-align: right;\n",
       "    }\n",
       "</style>\n",
       "<table border=\"1\" class=\"dataframe\">\n",
       "  <thead>\n",
       "    <tr style=\"text-align: right;\">\n",
       "      <th></th>\n",
       "      <th>jumlah_kecelakaan</th>\n",
       "    </tr>\n",
       "    <tr>\n",
       "      <th>koridor</th>\n",
       "      <th></th>\n",
       "    </tr>\n",
       "  </thead>\n",
       "  <tbody>\n",
       "    <tr>\n",
       "      <th>Koridor 1</th>\n",
       "      <td>112</td>\n",
       "    </tr>\n",
       "    <tr>\n",
       "      <th>Koridor 10</th>\n",
       "      <td>119</td>\n",
       "    </tr>\n",
       "    <tr>\n",
       "      <th>Koridor 11</th>\n",
       "      <td>46</td>\n",
       "    </tr>\n",
       "    <tr>\n",
       "      <th>Koridor 12</th>\n",
       "      <td>149</td>\n",
       "    </tr>\n",
       "    <tr>\n",
       "      <th>Koridor 2</th>\n",
       "      <td>174</td>\n",
       "    </tr>\n",
       "    <tr>\n",
       "      <th>Koridor 3</th>\n",
       "      <td>185</td>\n",
       "    </tr>\n",
       "    <tr>\n",
       "      <th>Koridor 4</th>\n",
       "      <td>111</td>\n",
       "    </tr>\n",
       "    <tr>\n",
       "      <th>Koridor 5</th>\n",
       "      <td>107</td>\n",
       "    </tr>\n",
       "    <tr>\n",
       "      <th>Koridor 6</th>\n",
       "      <td>278</td>\n",
       "    </tr>\n",
       "    <tr>\n",
       "      <th>Koridor 7</th>\n",
       "      <td>174</td>\n",
       "    </tr>\n",
       "    <tr>\n",
       "      <th>Koridor 8</th>\n",
       "      <td>250</td>\n",
       "    </tr>\n",
       "    <tr>\n",
       "      <th>Koridor 9</th>\n",
       "      <td>266</td>\n",
       "    </tr>\n",
       "  </tbody>\n",
       "</table>\n",
       "</div>"
      ],
      "text/plain": [
       "            jumlah_kecelakaan\n",
       "koridor                      \n",
       "Koridor 1                 112\n",
       "Koridor 10                119\n",
       "Koridor 11                 46\n",
       "Koridor 12                149\n",
       "Koridor 2                 174\n",
       "Koridor 3                 185\n",
       "Koridor 4                 111\n",
       "Koridor 5                 107\n",
       "Koridor 6                 278\n",
       "Koridor 7                 174\n",
       "Koridor 8                 250\n",
       "Koridor 9                 266"
      ]
     },
     "execution_count": 5,
     "metadata": {},
     "output_type": "execute_result"
    }
   ],
   "source": [
    "jumlah = hasil.groupby(['koridor'])['jumlah_kecelakaan'].sum().to_frame()\n",
    "jumlah"
   ]
  },
  {
   "cell_type": "markdown",
   "metadata": {},
   "source": [
    "## Grafik Total Jumlah Kecelakaan Periode 2014 - 2016\n",
    "###### Menurut grafik berikut dapat disimpulkan bahwa \"Koridor 6\" yang melayani rute Ragunan-Latuharhari menjadi koridor dengan kecelakaan tertinggi dengan jumlah 278 kasus, diikuti \"Koridor 9\" dan \"Koridor 8\" diposisis kedua dan ketiga. Untuk jumlah kecelakaan terendah diraih oleh \"Koridor 11\" dengan rute Pulo Gebang-Kampung Melayu dengan kasus sebanyak 46 kasus."
   ]
  },
  {
   "cell_type": "code",
   "execution_count": 6,
   "metadata": {},
   "outputs": [
    {
     "data": {
      "text/plain": [
       "<matplotlib.axes._subplots.AxesSubplot at 0x7fbeaacaa760>"
      ]
     },
     "execution_count": 6,
     "metadata": {},
     "output_type": "execute_result"
    },
    {
     "data": {
      "image/png": "[encoded data removed]",
      "text/plain": [
       "<Figure size 432x288 with 1 Axes>"
      ]
     },
     "metadata": {
      "needs_background": "light"
     },
     "output_type": "display_data"
    }
   ],
   "source": [
    "jumlah.plot.bar()"
   ]
  },
  {
   "cell_type": "markdown",
   "metadata": {},
   "source": [
    "## Grafik Jumlah Kecelakaan per Tahun 2014, 2015 dan 2016 "
   ]
  },
  {
   "cell_type": "code",
   "execution_count": 7,
   "metadata": {},
   "outputs": [
    {
     "data": {
      "text/plain": [
       "<matplotlib.axes._subplots.AxesSubplot at 0x7fbeaab95f10>"
      ]
     },
     "execution_count": 7,
     "metadata": {},
     "output_type": "execute_result"
    },
    {
     "data": {
      "image/png": "[encoded data removed]",
      "text/plain": [
       "<Figure size 432x288 with 1 Axes>"
      ]
     },
     "metadata": {
      "needs_background": "light"
     },
     "output_type": "display_data"
    },
    {
     "data": {
      "image/png": "[encoded data removed]",
      "text/plain": [
       "<Figure size 432x288 with 1 Axes>"
      ]
     },
     "metadata": {
      "needs_background": "light"
     },
     "output_type": "display_data"
    },
    {
     "data": {
      "image/png": "[encoded data removed]",
      "text/plain": [
       "<Figure size 432x288 with 1 Axes>"
      ]
     },
     "metadata": {
      "needs_background": "light"
     },
     "output_type": "display_data"
    }
   ],
   "source": [
    "data1.plot.bar()\n",
    "data2.plot.bar()\n",
    "data3.plot.bar()"
   ]
  },
  {
   "cell_type": "code",
   "execution_count": 24,
   "metadata": {},
   "outputs": [
    {
     "data": {
      "text/plain": [
       "rute_koridor         blok m - kotaharmoni - pulo gadungkalideres - ...\n",
       "jumlah_kecelakaan                                                  770\n",
       "dtype: object"
      ]
     },
     "execution_count": 24,
     "metadata": {},
     "output_type": "execute_result"
    }
   ],
   "source": [
    "data1.sum()"
   ]
  },
  {
   "cell_type": "code",
   "execution_count": 22,
   "metadata": {},
   "outputs": [
    {
     "data": {
      "text/plain": [
       "rute_koridor         blok m - kotaharmoni - pulo gadungkalideres - ...\n",
       "jumlah_kecelakaan                                                  418\n",
       "dtype: object"
      ]
     },
     "execution_count": 22,
     "metadata": {},
     "output_type": "execute_result"
    }
   ],
   "source": [
    "data2.sum()"
   ]
  },
  {
   "cell_type": "code",
   "execution_count": 23,
   "metadata": {},
   "outputs": [
    {
     "data": {
      "text/plain": [
       "rute_koridor         blok m - kotaharmoni - pulo gadungkalideres - ...\n",
       "jumlah_kecelakaan                                                  783\n",
       "dtype: object"
      ]
     },
     "execution_count": 23,
     "metadata": {},
     "output_type": "execute_result"
    }
   ],
   "source": [
    "data3.sum()"
   ]
  },
  {
   "cell_type": "markdown",
   "metadata": {},
   "source": [
    "##### Menurut Grafik kecelakaan koridor pada Tahun 2014 menunjukan Koridor 9 meraih kasus kecelakaan koridor tertinggi, dikuti Koridor 6 dan Koridor 3 diposisi kedua dan ketiga. Lalu menurut Grafik kecelakaan koridor pada Tahun 2015 menunjukan Koridor 8, Koridor 6 dan Koridor 9 menduduki posisi 3 teratas kasus tertinggi. Sedangkan pada Tahun 2016, Koridor 6 menjadi kasus kecelakaan koridor tertinggi diikuti Koridor 8 dan Koridor 9 diposisi kedua dan ketiga kasus tertinggi."
   ]
  },
  {
   "cell_type": "markdown",
   "metadata": {},
   "source": [
    "## Kesimpulan\n",
    "###### Kasus kecelakaan koridor busway menempatkan Koridor 6 dengan rute Ragunan-Latuharhari dengan jumlah kasus tertinggi selama periode 2014-2016. Koridor 6, Koridor 8 dan Koridor 9 juga menempati 3 besar kasus tertinggi selama 2 tahun berturut-turut. Untuk kasus perTahun mengalami penurunan signifikan kasus pada Tahun 2015 dengan 418 kasus, tetapi kembali melonjak pada Tahun 2016 dengan 783 kasus melampaui kasus pada Tahun 2014 dengan 770 kasus."
   ]
  },
  {
   "cell_type": "code",
   "execution_count": null,
   "metadata": {},
   "outputs": [],
   "source": []
  }
 ],
 "metadata": {
  "kernelspec": {
   "display_name": "Python 3",
   "language": "python",
   "name": "python3"
  },
  "language_info": {
   "codemirror_mode": {
    "name": "ipython",
    "version": 3
   },
   "file_extension": ".py",
   "mimetype": "text/x-python",
   "name": "python",
   "nbconvert_exporter": "python",
   "pygments_lexer": "ipython3",
   "version": "3.8.5"
  }
 },
 "nbformat": 4,
 "nbformat_minor": 4
}
